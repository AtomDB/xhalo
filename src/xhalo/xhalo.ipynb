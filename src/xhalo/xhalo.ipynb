{
 "cells": [
  {
   "cell_type": "code",
   "execution_count": 1,
   "metadata": {},
   "outputs": [],
   "source": [
    "NH = 1e22\n",
    "E = 2.0\n",
    "dust_model = 1\n",
    "halo_model = 1\n",
    "SrcRad = 0.0\n",
    "th = [10,20,30,40,50]"
   ]
  },
  {
   "cell_type": "code",
   "execution_count": 61,
   "metadata": {},
   "outputs": [],
   "source": [
    "class Dust:\n",
    "    def __init__(self, name, a_min, a_max, norm, size_func, halo_model, rho, ZDAtype):\n",
    "        self.name = name\n",
    "        self.a_min = a_min\n",
    "        self.a_max = a_max\n",
    "        self.norm = norm\n",
    "        self.size_func = size_func\n",
    "        self.halo_model = halo_model\n",
    "        self.rho = rho\n",
    "        self.ZDAtype = ZDAtype\n",
    "\n",
    "\n",
    "class Halo:\n",
    "    import scipy.integrate as integrate\n",
    "    import numpy as np\n",
    "\n",
    "    def __init__(self, N_H, E, dusts = None, scatter_model = \"RG\"):\n",
    "        self.E = E #AUTUMN: allow for multiple E segments\n",
    "        self.N_H = N_H\n",
    "        self.dusts = dusts\n",
    "        self.scatter_model = scatter_model\n",
    "        \n",
    "    # AUTUMN : allow other scatter models\n",
    "    def dsigma_dOmega(self, a, dust, theta):\n",
    "        import math\n",
    "        c = 9.3e-8\n",
    "        exponent = math.exp(-.4575 * self.E**2 * a**2 * (theta/60)**2)\n",
    "        F = 1 # AUTUMN: CHANGE \n",
    "        return (c * (dust.rho/3)**2 * a**6 * exponent)\n",
    "        \n",
    "    def I(self, theta):\n",
    "        I = 0\n",
    "        for dust in self.dusts:\n",
    "            I += self.dust_I(dust, theta)\n",
    "        return I\n",
    "    \n",
    "    def dust_I(self, dust, theta):\n",
    "        import scipy.integrate as integrate\n",
    "        def integrand(a):\n",
    "            return dust.size_func(a) * self.dsigma_dOmega(a, dust, theta)\n",
    "        integration = integrate.quad(integrand, dust.a_min, dust.a_max)\n",
    "        return self.E * self.N_H * integration[0]"
   ]
  },
  {
   "cell_type": "code",
   "execution_count": 66,
   "metadata": {},
   "outputs": [],
   "source": [
    "E = 2.0\n",
    "N_H = 1e22\n",
    "\n",
    "def simple_size_func(a):\n",
    "    return a**(-3.5)\n",
    "\n",
    "silicate = Dust(name = \"silicate\", a_min=0.0050, a_max=0.250, norm=1, size_func=simple_size_func, halo_model=\"RG\", rho=3.3, ZDAtype=-1)\n",
    "graphite = Dust(name = \"graphite\", a_min=0.0050, a_max=0.250, norm=1, size_func=simple_size_func, halo_model=\"RG\", rho=2.2, ZDAtype=-1)\n",
    "dusts = [silicate,graphite]\n",
    "\n",
    "halo = Halo(N_H, E,dusts)"
   ]
  },
  {
   "cell_type": "code",
   "execution_count": 67,
   "metadata": {},
   "outputs": [
    {
     "data": {
      "text/plain": [
       "1.758279015518998e-21"
      ]
     },
     "execution_count": 67,
     "metadata": {},
     "output_type": "execute_result"
    }
   ],
   "source": [
    "halo.dsigma_dOmega(.005, silicate, 10)"
   ]
  },
  {
   "cell_type": "code",
   "execution_count": 68,
   "metadata": {},
   "outputs": [
    {
     "data": {
      "text/plain": [
       "5013510114389.896"
      ]
     },
     "execution_count": 68,
     "metadata": {},
     "output_type": "execute_result"
    }
   ],
   "source": [
    "halo.dust_I(silicate, 10)"
   ]
  },
  {
   "cell_type": "code",
   "execution_count": 65,
   "metadata": {},
   "outputs": [
    {
     "data": {
      "text/plain": [
       "7241736831896.518"
      ]
     },
     "execution_count": 65,
     "metadata": {},
     "output_type": "execute_result"
    }
   ],
   "source": [
    "halo.I(10)"
   ]
  }
 ],
 "metadata": {
  "kernelspec": {
   "display_name": "Python 3",
   "language": "python",
   "name": "python3"
  },
  "language_info": {
   "codemirror_mode": {
    "name": "ipython",
    "version": 3
   },
   "file_extension": ".py",
   "mimetype": "text/x-python",
   "name": "python",
   "nbconvert_exporter": "python",
   "pygments_lexer": "ipython3",
   "version": "3.11.9"
  }
 },
 "nbformat": 4,
 "nbformat_minor": 2
}
