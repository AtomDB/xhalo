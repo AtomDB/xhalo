{
 "cells": [
  {
   "cell_type": "code",
   "execution_count": 1,
   "metadata": {},
   "outputs": [],
   "source": [
    "NH = 1e22\n",
    "E = 2.0\n",
    "dust_model = 1\n",
    "halo_model = 1\n",
    "SrcRad = 0.0\n",
    "th = [10,20,30,40,50]"
   ]
  },
  {
   "cell_type": "code",
   "execution_count": 2,
   "metadata": {},
   "outputs": [],
   "source": [
    "# Last Time\n",
    "class Dust:\n",
    "    def __init__(self, name, a_min, a_max, norm, size_func, halo_model, rho, ZDAtype):\n",
    "        self.name = name\n",
    "        self.a_min = a_min\n",
    "        self.a_max = a_max\n",
    "        self.norm = norm\n",
    "        self.size_func = size_func\n",
    "        self.halo_model = halo_model\n",
    "        self.rho = rho\n",
    "\n",
    "\n",
    "class Halo:\n",
    "    import scipy.integrate as integrate\n",
    "    import numpy as np\n",
    "\n",
    "    def __init__(self, N_H, E, dusts = None, scatter_model = \"RG\"):\n",
    "        self.E = E #AUTUMN: allow for multiple E segments\n",
    "        self.N_H = N_H\n",
    "        self.dusts = dusts\n",
    "        self.scatter_model = scatter_model\n",
    "        \n",
    "    #AUTUMN : allow other scatter models\n",
    "    def dsigma_dOmega(self, a, dust, theta):\n",
    "        import math\n",
    "        c = 9.3e-8\n",
    "        exponent = math.exp(-.4575 * self.E**2 * a**2 * (theta/60)**2)\n",
    "        F = 1 # AUTUMN: CHANGE \n",
    "        return (c * (dust.rho/3)**2 * a**6 * exponent)\n",
    "\n",
    "    # def dsigma_dOmega(self, a, dust, theta):\n",
    "    #     import math\n",
    "    #     c = 9.3e-8\n",
    "    #     x = .5\n",
    "    #     exponent = math.exp((-.4575 * self.E**2 * a**2 * (theta/60)**2)/(1-x)**2)\n",
    "    #     F = 1 # AUTUMN: CHANGE \n",
    "    #     return (c * (dust.rho/3)**2 * a**6 * exponent)/(1-x)**2\n",
    "        \n",
    "    def I(self, theta):\n",
    "        I = 0\n",
    "        for dust in self.dusts:\n",
    "            I += self.dust_I(dust, theta)\n",
    "        return I\n",
    "    \n",
    "    def dust_I(self, dust, theta):\n",
    "        import scipy.integrate as integrate\n",
    "        def integrand(a):\n",
    "            return dust.size_func(a) * self.dsigma_dOmega(a, dust, theta)\n",
    "        integration = integrate.quad(integrand, dust.a_min, dust.a_max)\n",
    "        return self.E * self.N_H * integration[0]"
   ]
  },
  {
   "cell_type": "code",
   "execution_count": 31,
   "metadata": {},
   "outputs": [],
   "source": [
    "E = 2.0\n",
    "N_H = 1e22\n",
    "theta = 10\n",
    "\n",
    "def simple_size_func(a):\n",
    "    return a**(-3.5)\n",
    "\n",
    "silicate = Dust(name = \"silicate\", a_min=0.0050, a_max=0.250, norm=1, size_func=simple_size_func, halo_model=\"RG\", rho=3.3)\n",
    "graphite = Dust(name = \"graphite\", a_min=0.0050, a_max=0.250, norm=1, size_func=simple_size_func, halo_model=\"RG\", rho=2.2)\n",
    "dusts = [silicate,graphite]\n",
    "\n",
    "halo = Halo(N_H, E, dusts)"
   ]
  },
  {
   "cell_type": "code",
   "execution_count": 32,
   "metadata": {},
   "outputs": [
    {
     "data": {
      "text/plain": [
       "1.1247281178656906e-13"
      ]
     },
     "execution_count": 32,
     "metadata": {},
     "output_type": "execute_result"
    }
   ],
   "source": [
    "halo.dsigma_dOmega(.1, silicate, 10)"
   ]
  },
  {
   "cell_type": "code",
   "execution_count": 33,
   "metadata": {},
   "outputs": [
    {
     "data": {
      "text/plain": [
       "25067550571962.387"
      ]
     },
     "execution_count": 33,
     "metadata": {},
     "output_type": "execute_result"
    }
   ],
   "source": [
    "halo.dust_I(silicate, 10)"
   ]
  },
  {
   "cell_type": "code",
   "execution_count": 34,
   "metadata": {},
   "outputs": [
    {
     "data": {
      "text/plain": [
       "36208684159501.23"
      ]
     },
     "execution_count": 34,
     "metadata": {},
     "output_type": "execute_result"
    }
   ],
   "source": [
    "halo.I(10)"
   ]
  },
  {
   "cell_type": "markdown",
   "metadata": {},
   "source": [
    "# shalox Copycat"
   ]
  },
  {
   "cell_type": "code",
   "execution_count": 26,
   "metadata": {},
   "outputs": [],
   "source": [
    "class Dust:\n",
    "    def __init__(self, name, a_min, a_max, norm, size_func, halo_model, rho):\n",
    "        self.name = name\n",
    "        self.a_min = a_min\n",
    "        self.a_max = a_max\n",
    "        self.norm = norm\n",
    "        self.size_func = size_func\n",
    "        self.halo_model = halo_model\n",
    "        self.rho = rho\n",
    "\n",
    "def shalox(N_H, E, dusts, theta, x):\n",
    "    import scipy.integrate as integrate\n",
    "    import math\n",
    "\n",
    "    def halo_func(a, dust):\n",
    "        SrPerArcmin2 = 8.4616e-8\n",
    "        c = 1.1*SrPerArcmin2\n",
    "\n",
    "        n_a = dust.norm * dust.size_func(a)\n",
    "        F = 1\n",
    "\n",
    "        beta1 = E * a * (theta/60) * math.sqrt(.4575)\n",
    "\n",
    "        I = c * n_a * (dust.rho/3)**2 * a**6 * F * math.exp(-((beta1/(1-x))**2))/((1-x)**2)\n",
    "\n",
    "        return I\n",
    "\n",
    "    Isca_calc = 0\n",
    "    for dust in dusts:\n",
    "        Isca_calc += integrate.quad(halo_func, dust.a_min, dust.a_max, args=dust)[0]\n",
    "\n",
    "    Isca = N_H * Isca_calc\n",
    "    return Isca\n",
    "\n"
   ]
  },
  {
   "cell_type": "code",
   "execution_count": 29,
   "metadata": {},
   "outputs": [
    {
     "data": {
      "text/plain": [
       "1.1350180461047317"
      ]
     },
     "execution_count": 29,
     "metadata": {},
     "output_type": "execute_result"
    }
   ],
   "source": [
    "def simple_size_func(a):\n",
    "    return a**(-3.5)\n",
    "\n",
    "silicate = Dust(name = \"silicate\", a_min=0.0050, a_max=0.250, norm=1, size_func=simple_size_func, halo_model=\"RG\", rho=3.3)\n",
    "graphite = Dust(name = \"graphite\", a_min=0.0050, a_max=0.250, norm=1, size_func=simple_size_func, halo_model=\"RG\", rho=2.2)\n",
    "dusts = [silicate,graphite]\n",
    "\n",
    "shalox(1e22, 2, dusts, 30, .5)/shalox(1e22, 2, dusts, 50, .5)"
   ]
  },
  {
   "cell_type": "code",
   "execution_count": 1,
   "metadata": {},
   "outputs": [],
   "source": [
    "class Halo:\n",
    "    import scipy.integrate as integrate\n",
    "    import numpy as np\n",
    "\n",
    "    def __init__(self, N_H, E, dusts = None, scatter_model = \"RG\"):\n",
    "        self.E = E #AUTUMN: allow for multiple E segments\n",
    "        self.N_H = N_H\n",
    "        self.dusts = dusts\n",
    "        self.scatter_model = scatter_model\n",
    "        \n",
    "    #AUTUMN : allow other scatter models\n",
    "    def dsigma_dOmega(self, a, dust, theta):\n",
    "        import math\n",
    "        c = 9.3e-8\n",
    "        exponent = math.exp(-.4575 * self.E**2 * a**2 * (theta/60)**2)\n",
    "        F = 1 # AUTUMN: CHANGE \n",
    "        return (c * (dust.rho/3)**2 * a**6 * exponent)\n",
    "        \n",
    "    def I(self, theta):\n",
    "        I = 0\n",
    "        for dust in self.dusts:\n",
    "            I += self.dust_I(dust, theta)\n",
    "        return I\n",
    "    \n",
    "    def dust_I(self, dust, theta):\n",
    "        import scipy.integrate as integrate\n",
    "        def integrand(a):\n",
    "            return dust.size_func(a) * self.dsigma_dOmega(a, dust, theta)\n",
    "        integration = integrate.quad(integrand, dust.a_min, dust.a_max)\n",
    "        return self.E * self.N_H * dust.norm * integration[0]"
   ]
  },
  {
   "cell_type": "markdown",
   "metadata": {},
   "source": [
    "## Demo"
   ]
  },
  {
   "cell_type": "code",
   "execution_count": 1,
   "metadata": {},
   "outputs": [],
   "source": [
    "from dust import *\n",
    "from halo import *\n",
    "\n",
    "E = 2.0\n",
    "N_H = 1e22\n",
    "theta = 10"
   ]
  },
  {
   "cell_type": "code",
   "execution_count": 2,
   "metadata": {},
   "outputs": [],
   "source": [
    "silicate = Silicate()\n",
    "graphite = Graphite()"
   ]
  },
  {
   "cell_type": "code",
   "execution_count": 18,
   "metadata": {},
   "outputs": [
    {
     "data": {
      "text/plain": [
       "np.float64(1.0568899186550977)"
      ]
     },
     "execution_count": 18,
     "metadata": {},
     "output_type": "execute_result"
    }
   ],
   "source": [
    "graphite.F(E)"
   ]
  },
  {
   "cell_type": "code",
   "execution_count": 4,
   "metadata": {},
   "outputs": [
    {
     "data": {
      "image/png": "[encoded data removed]",
      "text/plain": [
       "<Figure size 640x480 with 1 Axes>"
      ]
     },
     "metadata": {},
     "output_type": "display_data"
    }
   ],
   "source": [
    "silicate.plot_size_func()"
   ]
  },
  {
   "cell_type": "code",
   "execution_count": 5,
   "metadata": {},
   "outputs": [],
   "source": [
    "halo = Halo(N_H, E, [silicate,graphite])"
   ]
  },
  {
   "cell_type": "code",
   "execution_count": 6,
   "metadata": {},
   "outputs": [
    {
     "data": {
      "text/plain": [
       "0.020377524283098854"
      ]
     },
     "execution_count": 6,
     "metadata": {},
     "output_type": "execute_result"
    }
   ],
   "source": [
    "halo.dust_I(silicate, 20)"
   ]
  },
  {
   "cell_type": "code",
   "execution_count": 7,
   "metadata": {},
   "outputs": [
    {
     "data": {
      "text/plain": [
       "0.008036214296955146"
      ]
     },
     "execution_count": 7,
     "metadata": {},
     "output_type": "execute_result"
    }
   ],
   "source": [
    "halo.dust_I(graphite, 20)"
   ]
  },
  {
   "cell_type": "code",
   "execution_count": 17,
   "metadata": {},
   "outputs": [
    {
     "data": {
      "text/plain": [
       "0.009706000728089751"
      ]
     },
     "execution_count": 17,
     "metadata": {},
     "output_type": "execute_result"
    }
   ],
   "source": [
    "halo.I(50)"
   ]
  },
  {
   "cell_type": "code",
   "execution_count": 9,
   "metadata": {},
   "outputs": [
    {
     "ename": "NameError",
     "evalue": "name 'np' is not defined",
     "output_type": "error",
     "traceback": [
      "\u001b[0;31m---------------------------------------------------------------------------\u001b[0m",
      "\u001b[0;31mNameError\u001b[0m                                 Traceback (most recent call last)",
      "Cell \u001b[0;32mIn[9], line 1\u001b[0m\n\u001b[0;32m----> 1\u001b[0m \u001b[43mhalo\u001b[49m\u001b[38;5;241;43m.\u001b[39;49m\u001b[43mplot_I\u001b[49m\u001b[43m(\u001b[49m\u001b[43m)\u001b[49m\n",
      "File \u001b[0;32m~/Downloads/Local Docs/SAO Internship/xhalo/src/xhalo/halo.py:45\u001b[0m, in \u001b[0;36mHalo.plot_I\u001b[0;34m(self)\u001b[0m\n\u001b[1;32m     43\u001b[0m \u001b[38;5;28;01mdef\u001b[39;00m \u001b[38;5;21mplot_I\u001b[39m(\u001b[38;5;28mself\u001b[39m):\n\u001b[1;32m     44\u001b[0m     \u001b[38;5;28;01mfrom\u001b[39;00m \u001b[38;5;21;01mmatplotlib\u001b[39;00m \u001b[38;5;28;01mimport\u001b[39;00m pyplot \u001b[38;5;28;01mas\u001b[39;00m plt\n\u001b[0;32m---> 45\u001b[0m     thetas \u001b[38;5;241m=\u001b[39m \u001b[43mnp\u001b[49m\u001b[38;5;241m.\u001b[39mlinspace(\u001b[38;5;241m0\u001b[39m,\u001b[38;5;241m30\u001b[39m,\u001b[38;5;241m100\u001b[39m)\n\u001b[1;32m     46\u001b[0m     I_vals \u001b[38;5;241m=\u001b[39m np\u001b[38;5;241m.\u001b[39mempty(thetas\u001b[38;5;241m.\u001b[39msize)\n\u001b[1;32m     47\u001b[0m     \u001b[38;5;28;01mfor\u001b[39;00m index,theta \u001b[38;5;129;01min\u001b[39;00m \u001b[38;5;28menumerate\u001b[39m(thetas):\n",
      "\u001b[0;31mNameError\u001b[0m: name 'np' is not defined"
     ]
    }
   ],
   "source": [
    "halo.plot_I()"
   ]
  },
  {
   "cell_type": "code",
   "execution_count": null,
   "metadata": {},
   "outputs": [],
   "source": []
  },
  {
   "cell_type": "markdown",
   "metadata": {},
   "source": [
    "## Experimentation"
   ]
  },
  {
   "cell_type": "code",
   "execution_count": null,
   "metadata": {},
   "outputs": [],
   "source": [
    "# Alternate Version\n",
    "class Dust:\n",
    "    def __init__(self, name, a_min, a_max, norm, size_func, halo_model, rho):\n",
    "        self.name = name\n",
    "        self.a_min = a_min\n",
    "        self.a_max = a_max\n",
    "        self.norm = norm\n",
    "        self.size_func = size_func\n",
    "        self.halo_model = halo_model\n",
    "        self.rho = rho\n",
    "\n",
    "\n",
    "class Halo:\n",
    "    import scipy.integrate as integrate\n",
    "    import numpy as np\n",
    "\n",
    "    def __init__(self, N_H, E, dusts = None, scatter_model = \"RG\"):\n",
    "        self.E = E #AUTUMN: allow for multiple E segments\n",
    "        self.N_H = N_H\n",
    "        self.dusts = dusts\n",
    "        self.scatter_model = scatter_model\n",
    "        \n",
    "    # AUTUMN : allow other scatter models\n",
    "    def dsigma_dOmega(self, a, dust, theta):\n",
    "        import math\n",
    "        c = 9.3e-8\n",
    "        exponent = math.exp(-.4575 * self.E**2 * a**2 * (theta/60)**2)\n",
    "        F = 1 # AUTUMN: CHANGE \n",
    "        return (c * (dust.rho/3)**2 * a**6 * exponent)\n",
    "        \n",
    "    def I(self, theta):\n",
    "        I = 0\n",
    "        for dust in self.dusts:\n",
    "            I += self.dust_I(dust, theta)\n",
    "        return I\n",
    "    \n",
    "    def dust_I(self, dust, theta):\n",
    "        import scipy.integrate as integrate\n",
    "        def z_integrand(z, a):\n",
    "            return (1-z)**-2 * self.dsigma_dOmega(a, dust, theta)\n",
    "\n",
    "        def a_integrand(a):\n",
    "            return dust.size_func(a) * integrate.quad(z_integrand, 0, 1-(theta/60), args=a)[0]\n",
    "\n",
    "        a_integration = integrate.quad(a_integrand, dust.a_min, dust.a_max)[0]\n",
    "        return self.E * self.N_H * a_integration"
   ]
  },
  {
   "cell_type": "code",
   "execution_count": null,
   "metadata": {},
   "outputs": [],
   "source": [
    "# mimic shalo\n",
    "class Dust:\n",
    "    def __init__(self, name, a_min, a_max, norm, size_func, halo_model, rho):\n",
    "        self.name = name\n",
    "        self.a_min = a_min\n",
    "        self.a_max = a_max\n",
    "        self.norm = norm\n",
    "        self.size_func = size_func\n",
    "        self.halo_model = halo_model\n",
    "        self.rho = rho\n",
    "\n",
    "\n",
    "class Halo:\n",
    "    import scipy.integrate as integrate\n",
    "    import numpy as np\n",
    "\n",
    "    def __init__(self, N_H, E, dusts = None, scatter_model = \"RG\"):\n",
    "        self.E = E #AUTUMN: allow for multiple E segments\n",
    "        self.N_H = N_H\n",
    "        self.dusts = dusts\n",
    "        self.scatter_model = scatter_model\n",
    "        \n",
    "    # AUTUMN : allow other scatter models\n",
    "    def dsigma_dOmega(self, a, dust, theta):\n",
    "        import math\n",
    "        import scipy.integrate as integrate\n",
    "        c = 9.3e-8\n",
    "        beta = math.sqrt(.4575) * self.E * a * (theta/60)\n",
    "        F = 1 # AUTUMN: CHANGE \n",
    "\n",
    "        def integrand(t):\n",
    "            return math.exp(-t**2)\n",
    "\n",
    "        integration = integrate.quad(integrand, beta, 1000)[0]\n",
    "\n",
    "        return (c * (dust.rho/3)**2 * a**6 * F * (2/math.pi)/(2*beta) * integration)\n",
    "        \n",
    "    def I(self, theta):\n",
    "        I = 0\n",
    "        for dust in self.dusts:\n",
    "            I += self.dust_I(dust, theta)\n",
    "        return I\n",
    "    \n",
    "    def dust_I(self, dust, theta):\n",
    "        import scipy.integrate as integrate\n",
    "        def a_integrand(a):\n",
    "            return dust.size_func(a) * self.dsigma_dOmega(a, dust, theta)\n",
    "        \n",
    "        a_integration = integrate.quad(a_integrand, dust.a_min, dust.a_max)[0]\n",
    "        return self.N_H * a_integration"
   ]
  }
 ],
 "metadata": {
  "kernelspec": {
   "display_name": "Python 3",
   "language": "python",
   "name": "python3"
  },
  "language_info": {
   "codemirror_mode": {
    "name": "ipython",
    "version": 3
   },
   "file_extension": ".py",
   "mimetype": "text/x-python",
   "name": "python",
   "nbconvert_exporter": "python",
   "pygments_lexer": "ipython3",
   "version": "3.11.9"
  }
 },
 "nbformat": 4,
 "nbformat_minor": 2
}
